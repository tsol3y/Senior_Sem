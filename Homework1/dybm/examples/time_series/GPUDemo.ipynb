{
 "cells": [
  {
   "cell_type": "markdown",
   "metadata": {},
   "source": [
    "# GPU Acceleration\n",
    "- Author: Taro Sekiyama\n",
    "- Date: July 11, 2017.\n",
    "- (C) Copyright IBM Corp. 2016\n",
    "\n",
    "DyBM works well with `numpy`, but it may take much time to deal with high-dimensional data.  Handling high-dimensional data is usually accelerated by GPUs, and DyBM also supports work with GPUs via `cupy`, a `numpy`-like Python library accelerated with NVIDIA CUDA.  By default, DyBM works together with `numpy`, and we can switch the matrix implementation of DyBM to `cupy` by `setup` function provided in `pydybm.arraymath` module."
   ]
  },
  {
   "cell_type": "code",
   "execution_count": null,
   "metadata": {
    "collapsed": true
   },
   "outputs": [],
   "source": [
    "import pydybm.arraymath as amath\n",
    "import pydybm.arraymath.dycupy as dycupy\n",
    "\n",
    "amath.setup(dycupy)"
   ]
  },
  {
   "cell_type": "markdown",
   "metadata": {},
   "source": [
    "Once `cupy` is enabled, we can use DyBM as the same way as the `numpy` version.  For example, [`LinearDyBM`](LinearDyBMDemo.ipynb) works together with `cupy` as follows."
   ]
  },
  {
   "cell_type": "code",
   "execution_count": null,
   "metadata": {
    "collapsed": true
   },
   "outputs": [],
   "source": [
    "from pydybm.time_series.dybm import LinearDyBM\n",
    "from pydybm.base.generator import NoisySin\n",
    "\n",
    "length = 300 # length of the time-series\n",
    "period = 60  # period of the sine wave\n",
    "std = 0.1   # standard deviation of the noise\n",
    "dim = 1      # dimension of the time-series\n",
    "data = NoisySin(length,period,std,dim)\n",
    "\n",
    "# Create a DyBM\n",
    "# In this example, we use the simplest Linear DyBM\n",
    "dybm = LinearDyBM(dim)\n",
    "\n",
    "# Learn and predict the time-series in an online manner\n",
    "result = dybm.learn(data)"
   ]
  },
  {
   "cell_type": "markdown",
   "metadata": {},
   "source": [
    "We have to note that the `dybm` above deals with cupy arrays, so it requires arguments to be cupy arrays and it returns cupy arras intead of numpy arrays.  `arraymath` module provides function `to_numpy` that converts cupy arrays to numpy ones."
   ]
  },
  {
   "cell_type": "code",
   "execution_count": null,
   "metadata": {
    "collapsed": true
   },
   "outputs": [],
   "source": [
    "# Plot the time-series and prediction\n",
    "%matplotlib inline\n",
    "import matplotlib.pyplot as plt\n",
    "for k in result:\n",
    "    result[k] = [amath.to_numpy(x) for x in result[k]]\n",
    "plt.plot(amath.to_numpy(result[\"actual\"]),label=\"target\")\n",
    "plt.plot(amath.to_numpy(result[\"prediction\"]),label=\"prediction\")\n",
    "plt.legend()"
   ]
  },
  {
   "cell_type": "markdown",
   "metadata": {},
   "source": [
    "Note: ones should not mix `cupy`- and `numpy`-based DyBM.  It can be prevented by calling `arraymath.setup` only at the beginnning of the main script or the main function. "
   ]
  }
 ],
 "metadata": {
  "kernelspec": {
   "display_name": "Python 2",
   "language": "python",
   "name": "python2"
  },
  "language_info": {
   "codemirror_mode": {
    "name": "ipython",
    "version": 2
   },
   "file_extension": ".py",
   "mimetype": "text/x-python",
   "name": "python",
   "nbconvert_exporter": "python",
   "pygments_lexer": "ipython2",
   "version": "2.7.13"
  }
 },
 "nbformat": 4,
 "nbformat_minor": 2
}
